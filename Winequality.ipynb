{
 "cells": [
  {
   "cell_type": "markdown",
   "id": "1b49e60f",
   "metadata": {},
   "source": [
    "## Etapas\n",
    "-\tEntendimento do negócio\n",
    "-\tCompreensão dos dados\n",
    "-\tTratamento e Limpeza dos dados\n",
    "-\tAnalise extrair informações relevantes pra conseguir responder perguntas"
   ]
  },
  {
   "cell_type": "markdown",
   "id": "8df89808",
   "metadata": {},
   "source": [
    "# Proposta\n",
    "\n",
    "A distribuidora de vinhos **FIAPWine** decidiu expandir seus horizontes e agora está importando vinhos tintos e branco portugueses, mais especificamente a marca \"Vinho Verde\", que fará sua carta de vinhos se tornar mais vasta aqui no Brasil.\n",
    "\n",
    "Fui designado para fazer as análises nos vinhos tintos, então é necessário que você siga os seguintes passos:\n",
    "\n",
    "1. Importe o dataset \"winequality-red.csv\" que pode ser baixado no seguinte link: https://archive.ics.uci.edu/ml/machine-learning-databases/wine-quality/winequality-red.csv\n",
    "\n",
    "2. Utilize o Pandas para verificar a estrutura do dataset (número de linhas, colunas, tipos de dados das colunas, etc).\n",
    "\n",
    "3. Limpe o dataset, removendo linhas duplicadas e tratando valores faltantes.\n",
    "\n",
    "4. Utilize o Matplotlib para visualizar as seguintes informações:\n",
    "\n",
    "    / a. Distribuição da acidez volátil por qualidade do vinho?\n",
    "\n",
    "    / b. Distribuição do teor alcóolico por qualidade do vinho?\n",
    "\n",
    "    / c. Relação entre acidez volátil e teor alcóolico?\n",
    "\n",
    "    / d. Relação entre acidez volátil e qualidade do vinho?\n",
    "\n",
    "5. Análise os resultados e responda às seguintes perguntas:\n",
    "\n",
    "    / d. Qual a acidez volátil média dos vinhos de qualidade elevada?\n",
    "\n",
    "    / d. Qual a relação entre teor alcóolico e qualidade do vinho?\n",
    "\n",
    "    / d. Há alguma relação entre acidez volátil e teor alcóolico?\n",
    "    \n",
    "    / d. Há alguma relação entre acidez volátil e qualidade do vinho?"
   ]
  },
  {
   "cell_type": "code",
   "execution_count": null,
   "id": "0690db5c",
   "metadata": {},
   "outputs": [],
   "source": [
    "#Lib\n",
    "import pandas as pd\n",
    "import matplotlib.pyplot as plt\n",
    "import seaborn as sns\n",
    "import warnings\n",
    "warnings.filterwarnings('ignore')"
   ]
  },
  {
   "cell_type": "code",
   "execution_count": 2,
   "id": "e693451f",
   "metadata": {},
   "outputs": [],
   "source": [
    "df_winequality = pd.read_csv('https://archive.ics.uci.edu/ml/machine-learning-databases/wine-quality/winequality-red.csv', sep=';')"
   ]
  },
  {
   "cell_type": "markdown",
   "id": "79ebb290",
   "metadata": {},
   "source": [
    "# Análise Exploratória (EAD)"
   ]
  },
  {
   "cell_type": "code",
   "execution_count": 3,
   "id": "5d4a99db",
   "metadata": {},
   "outputs": [
    {
     "data": {
      "application/vnd.microsoft.datawrangler.viewer.v0+json": {
       "columns": [
        {
         "name": "index",
         "rawType": "int64",
         "type": "integer"
        },
        {
         "name": "fixed acidity",
         "rawType": "float64",
         "type": "float"
        },
        {
         "name": "volatile acidity",
         "rawType": "float64",
         "type": "float"
        },
        {
         "name": "citric acid",
         "rawType": "float64",
         "type": "float"
        },
        {
         "name": "residual sugar",
         "rawType": "float64",
         "type": "float"
        },
        {
         "name": "chlorides",
         "rawType": "float64",
         "type": "float"
        },
        {
         "name": "free sulfur dioxide",
         "rawType": "float64",
         "type": "float"
        },
        {
         "name": "total sulfur dioxide",
         "rawType": "float64",
         "type": "float"
        },
        {
         "name": "density",
         "rawType": "float64",
         "type": "float"
        },
        {
         "name": "pH",
         "rawType": "float64",
         "type": "float"
        },
        {
         "name": "sulphates",
         "rawType": "float64",
         "type": "float"
        },
        {
         "name": "alcohol",
         "rawType": "float64",
         "type": "float"
        },
        {
         "name": "quality",
         "rawType": "int64",
         "type": "integer"
        }
       ],
       "conversionMethod": "pd.DataFrame",
       "ref": "4ec5b3e4-7d57-4c75-8ab4-750dae7ec098",
       "rows": [
        [
         "0",
         "7.4",
         "0.7",
         "0.0",
         "1.9",
         "0.076",
         "11.0",
         "34.0",
         "0.9978",
         "3.51",
         "0.56",
         "9.4",
         "5"
        ],
        [
         "1",
         "7.8",
         "0.88",
         "0.0",
         "2.6",
         "0.098",
         "25.0",
         "67.0",
         "0.9968",
         "3.2",
         "0.68",
         "9.8",
         "5"
        ],
        [
         "2",
         "7.8",
         "0.76",
         "0.04",
         "2.3",
         "0.092",
         "15.0",
         "54.0",
         "0.997",
         "3.26",
         "0.65",
         "9.8",
         "5"
        ],
        [
         "3",
         "11.2",
         "0.28",
         "0.56",
         "1.9",
         "0.075",
         "17.0",
         "60.0",
         "0.998",
         "3.16",
         "0.58",
         "9.8",
         "6"
        ],
        [
         "4",
         "7.4",
         "0.7",
         "0.0",
         "1.9",
         "0.076",
         "11.0",
         "34.0",
         "0.9978",
         "3.51",
         "0.56",
         "9.4",
         "5"
        ]
       ],
       "shape": {
        "columns": 12,
        "rows": 5
       }
      },
      "text/html": [
       "<div>\n",
       "<style scoped>\n",
       "    .dataframe tbody tr th:only-of-type {\n",
       "        vertical-align: middle;\n",
       "    }\n",
       "\n",
       "    .dataframe tbody tr th {\n",
       "        vertical-align: top;\n",
       "    }\n",
       "\n",
       "    .dataframe thead th {\n",
       "        text-align: right;\n",
       "    }\n",
       "</style>\n",
       "<table border=\"1\" class=\"dataframe\">\n",
       "  <thead>\n",
       "    <tr style=\"text-align: right;\">\n",
       "      <th></th>\n",
       "      <th>fixed acidity</th>\n",
       "      <th>volatile acidity</th>\n",
       "      <th>citric acid</th>\n",
       "      <th>residual sugar</th>\n",
       "      <th>chlorides</th>\n",
       "      <th>free sulfur dioxide</th>\n",
       "      <th>total sulfur dioxide</th>\n",
       "      <th>density</th>\n",
       "      <th>pH</th>\n",
       "      <th>sulphates</th>\n",
       "      <th>alcohol</th>\n",
       "      <th>quality</th>\n",
       "    </tr>\n",
       "  </thead>\n",
       "  <tbody>\n",
       "    <tr>\n",
       "      <th>0</th>\n",
       "      <td>7.4</td>\n",
       "      <td>0.70</td>\n",
       "      <td>0.00</td>\n",
       "      <td>1.9</td>\n",
       "      <td>0.076</td>\n",
       "      <td>11.0</td>\n",
       "      <td>34.0</td>\n",
       "      <td>0.9978</td>\n",
       "      <td>3.51</td>\n",
       "      <td>0.56</td>\n",
       "      <td>9.4</td>\n",
       "      <td>5</td>\n",
       "    </tr>\n",
       "    <tr>\n",
       "      <th>1</th>\n",
       "      <td>7.8</td>\n",
       "      <td>0.88</td>\n",
       "      <td>0.00</td>\n",
       "      <td>2.6</td>\n",
       "      <td>0.098</td>\n",
       "      <td>25.0</td>\n",
       "      <td>67.0</td>\n",
       "      <td>0.9968</td>\n",
       "      <td>3.20</td>\n",
       "      <td>0.68</td>\n",
       "      <td>9.8</td>\n",
       "      <td>5</td>\n",
       "    </tr>\n",
       "    <tr>\n",
       "      <th>2</th>\n",
       "      <td>7.8</td>\n",
       "      <td>0.76</td>\n",
       "      <td>0.04</td>\n",
       "      <td>2.3</td>\n",
       "      <td>0.092</td>\n",
       "      <td>15.0</td>\n",
       "      <td>54.0</td>\n",
       "      <td>0.9970</td>\n",
       "      <td>3.26</td>\n",
       "      <td>0.65</td>\n",
       "      <td>9.8</td>\n",
       "      <td>5</td>\n",
       "    </tr>\n",
       "    <tr>\n",
       "      <th>3</th>\n",
       "      <td>11.2</td>\n",
       "      <td>0.28</td>\n",
       "      <td>0.56</td>\n",
       "      <td>1.9</td>\n",
       "      <td>0.075</td>\n",
       "      <td>17.0</td>\n",
       "      <td>60.0</td>\n",
       "      <td>0.9980</td>\n",
       "      <td>3.16</td>\n",
       "      <td>0.58</td>\n",
       "      <td>9.8</td>\n",
       "      <td>6</td>\n",
       "    </tr>\n",
       "    <tr>\n",
       "      <th>4</th>\n",
       "      <td>7.4</td>\n",
       "      <td>0.70</td>\n",
       "      <td>0.00</td>\n",
       "      <td>1.9</td>\n",
       "      <td>0.076</td>\n",
       "      <td>11.0</td>\n",
       "      <td>34.0</td>\n",
       "      <td>0.9978</td>\n",
       "      <td>3.51</td>\n",
       "      <td>0.56</td>\n",
       "      <td>9.4</td>\n",
       "      <td>5</td>\n",
       "    </tr>\n",
       "  </tbody>\n",
       "</table>\n",
       "</div>"
      ],
      "text/plain": [
       "   fixed acidity  volatile acidity  citric acid  residual sugar  chlorides  \\\n",
       "0            7.4              0.70         0.00             1.9      0.076   \n",
       "1            7.8              0.88         0.00             2.6      0.098   \n",
       "2            7.8              0.76         0.04             2.3      0.092   \n",
       "3           11.2              0.28         0.56             1.9      0.075   \n",
       "4            7.4              0.70         0.00             1.9      0.076   \n",
       "\n",
       "   free sulfur dioxide  total sulfur dioxide  density    pH  sulphates  \\\n",
       "0                 11.0                  34.0   0.9978  3.51       0.56   \n",
       "1                 25.0                  67.0   0.9968  3.20       0.68   \n",
       "2                 15.0                  54.0   0.9970  3.26       0.65   \n",
       "3                 17.0                  60.0   0.9980  3.16       0.58   \n",
       "4                 11.0                  34.0   0.9978  3.51       0.56   \n",
       "\n",
       "   alcohol  quality  \n",
       "0      9.4        5  \n",
       "1      9.8        5  \n",
       "2      9.8        5  \n",
       "3      9.8        6  \n",
       "4      9.4        5  "
      ]
     },
     "execution_count": 3,
     "metadata": {},
     "output_type": "execute_result"
    }
   ],
   "source": [
    "df_winequality.head()"
   ]
  },
  {
   "cell_type": "code",
   "execution_count": 4,
   "id": "f2a40bff",
   "metadata": {},
   "outputs": [
    {
     "data": {
      "application/vnd.microsoft.datawrangler.viewer.v0+json": {
       "columns": [
        {
         "name": "index",
         "rawType": "int64",
         "type": "integer"
        },
        {
         "name": "fixed acidity",
         "rawType": "float64",
         "type": "float"
        },
        {
         "name": "volatile acidity",
         "rawType": "float64",
         "type": "float"
        },
        {
         "name": "citric acid",
         "rawType": "float64",
         "type": "float"
        },
        {
         "name": "residual sugar",
         "rawType": "float64",
         "type": "float"
        },
        {
         "name": "chlorides",
         "rawType": "float64",
         "type": "float"
        },
        {
         "name": "free sulfur dioxide",
         "rawType": "float64",
         "type": "float"
        },
        {
         "name": "total sulfur dioxide",
         "rawType": "float64",
         "type": "float"
        },
        {
         "name": "density",
         "rawType": "float64",
         "type": "float"
        },
        {
         "name": "pH",
         "rawType": "float64",
         "type": "float"
        },
        {
         "name": "sulphates",
         "rawType": "float64",
         "type": "float"
        },
        {
         "name": "alcohol",
         "rawType": "float64",
         "type": "float"
        },
        {
         "name": "quality",
         "rawType": "int64",
         "type": "integer"
        }
       ],
       "conversionMethod": "pd.DataFrame",
       "ref": "0946d90d-6a75-49eb-9413-52a018a9ee2d",
       "rows": [
        [
         "1594",
         "6.2",
         "0.6",
         "0.08",
         "2.0",
         "0.09",
         "32.0",
         "44.0",
         "0.9949",
         "3.45",
         "0.58",
         "10.5",
         "5"
        ],
        [
         "1595",
         "5.9",
         "0.55",
         "0.1",
         "2.2",
         "0.062",
         "39.0",
         "51.0",
         "0.99512",
         "3.52",
         "0.76",
         "11.2",
         "6"
        ],
        [
         "1596",
         "6.3",
         "0.51",
         "0.13",
         "2.3",
         "0.076",
         "29.0",
         "40.0",
         "0.99574",
         "3.42",
         "0.75",
         "11.0",
         "6"
        ],
        [
         "1597",
         "5.9",
         "0.645",
         "0.12",
         "2.0",
         "0.075",
         "32.0",
         "44.0",
         "0.99547",
         "3.57",
         "0.71",
         "10.2",
         "5"
        ],
        [
         "1598",
         "6.0",
         "0.31",
         "0.47",
         "3.6",
         "0.067",
         "18.0",
         "42.0",
         "0.99549",
         "3.39",
         "0.66",
         "11.0",
         "6"
        ]
       ],
       "shape": {
        "columns": 12,
        "rows": 5
       }
      },
      "text/html": [
       "<div>\n",
       "<style scoped>\n",
       "    .dataframe tbody tr th:only-of-type {\n",
       "        vertical-align: middle;\n",
       "    }\n",
       "\n",
       "    .dataframe tbody tr th {\n",
       "        vertical-align: top;\n",
       "    }\n",
       "\n",
       "    .dataframe thead th {\n",
       "        text-align: right;\n",
       "    }\n",
       "</style>\n",
       "<table border=\"1\" class=\"dataframe\">\n",
       "  <thead>\n",
       "    <tr style=\"text-align: right;\">\n",
       "      <th></th>\n",
       "      <th>fixed acidity</th>\n",
       "      <th>volatile acidity</th>\n",
       "      <th>citric acid</th>\n",
       "      <th>residual sugar</th>\n",
       "      <th>chlorides</th>\n",
       "      <th>free sulfur dioxide</th>\n",
       "      <th>total sulfur dioxide</th>\n",
       "      <th>density</th>\n",
       "      <th>pH</th>\n",
       "      <th>sulphates</th>\n",
       "      <th>alcohol</th>\n",
       "      <th>quality</th>\n",
       "    </tr>\n",
       "  </thead>\n",
       "  <tbody>\n",
       "    <tr>\n",
       "      <th>1594</th>\n",
       "      <td>6.2</td>\n",
       "      <td>0.600</td>\n",
       "      <td>0.08</td>\n",
       "      <td>2.0</td>\n",
       "      <td>0.090</td>\n",
       "      <td>32.0</td>\n",
       "      <td>44.0</td>\n",
       "      <td>0.99490</td>\n",
       "      <td>3.45</td>\n",
       "      <td>0.58</td>\n",
       "      <td>10.5</td>\n",
       "      <td>5</td>\n",
       "    </tr>\n",
       "    <tr>\n",
       "      <th>1595</th>\n",
       "      <td>5.9</td>\n",
       "      <td>0.550</td>\n",
       "      <td>0.10</td>\n",
       "      <td>2.2</td>\n",
       "      <td>0.062</td>\n",
       "      <td>39.0</td>\n",
       "      <td>51.0</td>\n",
       "      <td>0.99512</td>\n",
       "      <td>3.52</td>\n",
       "      <td>0.76</td>\n",
       "      <td>11.2</td>\n",
       "      <td>6</td>\n",
       "    </tr>\n",
       "    <tr>\n",
       "      <th>1596</th>\n",
       "      <td>6.3</td>\n",
       "      <td>0.510</td>\n",
       "      <td>0.13</td>\n",
       "      <td>2.3</td>\n",
       "      <td>0.076</td>\n",
       "      <td>29.0</td>\n",
       "      <td>40.0</td>\n",
       "      <td>0.99574</td>\n",
       "      <td>3.42</td>\n",
       "      <td>0.75</td>\n",
       "      <td>11.0</td>\n",
       "      <td>6</td>\n",
       "    </tr>\n",
       "    <tr>\n",
       "      <th>1597</th>\n",
       "      <td>5.9</td>\n",
       "      <td>0.645</td>\n",
       "      <td>0.12</td>\n",
       "      <td>2.0</td>\n",
       "      <td>0.075</td>\n",
       "      <td>32.0</td>\n",
       "      <td>44.0</td>\n",
       "      <td>0.99547</td>\n",
       "      <td>3.57</td>\n",
       "      <td>0.71</td>\n",
       "      <td>10.2</td>\n",
       "      <td>5</td>\n",
       "    </tr>\n",
       "    <tr>\n",
       "      <th>1598</th>\n",
       "      <td>6.0</td>\n",
       "      <td>0.310</td>\n",
       "      <td>0.47</td>\n",
       "      <td>3.6</td>\n",
       "      <td>0.067</td>\n",
       "      <td>18.0</td>\n",
       "      <td>42.0</td>\n",
       "      <td>0.99549</td>\n",
       "      <td>3.39</td>\n",
       "      <td>0.66</td>\n",
       "      <td>11.0</td>\n",
       "      <td>6</td>\n",
       "    </tr>\n",
       "  </tbody>\n",
       "</table>\n",
       "</div>"
      ],
      "text/plain": [
       "      fixed acidity  volatile acidity  citric acid  residual sugar  chlorides  \\\n",
       "1594            6.2             0.600         0.08             2.0      0.090   \n",
       "1595            5.9             0.550         0.10             2.2      0.062   \n",
       "1596            6.3             0.510         0.13             2.3      0.076   \n",
       "1597            5.9             0.645         0.12             2.0      0.075   \n",
       "1598            6.0             0.310         0.47             3.6      0.067   \n",
       "\n",
       "      free sulfur dioxide  total sulfur dioxide  density    pH  sulphates  \\\n",
       "1594                 32.0                  44.0  0.99490  3.45       0.58   \n",
       "1595                 39.0                  51.0  0.99512  3.52       0.76   \n",
       "1596                 29.0                  40.0  0.99574  3.42       0.75   \n",
       "1597                 32.0                  44.0  0.99547  3.57       0.71   \n",
       "1598                 18.0                  42.0  0.99549  3.39       0.66   \n",
       "\n",
       "      alcohol  quality  \n",
       "1594     10.5        5  \n",
       "1595     11.2        6  \n",
       "1596     11.0        6  \n",
       "1597     10.2        5  \n",
       "1598     11.0        6  "
      ]
     },
     "execution_count": 4,
     "metadata": {},
     "output_type": "execute_result"
    }
   ],
   "source": [
    "df_winequality.tail()"
   ]
  },
  {
   "cell_type": "code",
   "execution_count": 5,
   "id": "a4a9d059",
   "metadata": {},
   "outputs": [
    {
     "data": {
      "text/plain": [
       "(1599, 12)"
      ]
     },
     "execution_count": 5,
     "metadata": {},
     "output_type": "execute_result"
    }
   ],
   "source": [
    "df_winequality.shape"
   ]
  },
  {
   "cell_type": "code",
   "execution_count": 6,
   "id": "c1e9196e",
   "metadata": {},
   "outputs": [
    {
     "name": "stdout",
     "output_type": "stream",
     "text": [
      "<class 'pandas.core.frame.DataFrame'>\n",
      "RangeIndex: 1599 entries, 0 to 1598\n",
      "Data columns (total 12 columns):\n",
      " #   Column                Non-Null Count  Dtype  \n",
      "---  ------                --------------  -----  \n",
      " 0   fixed acidity         1599 non-null   float64\n",
      " 1   volatile acidity      1599 non-null   float64\n",
      " 2   citric acid           1599 non-null   float64\n",
      " 3   residual sugar        1599 non-null   float64\n",
      " 4   chlorides             1599 non-null   float64\n",
      " 5   free sulfur dioxide   1599 non-null   float64\n",
      " 6   total sulfur dioxide  1599 non-null   float64\n",
      " 7   density               1599 non-null   float64\n",
      " 8   pH                    1599 non-null   float64\n",
      " 9   sulphates             1599 non-null   float64\n",
      " 10  alcohol               1599 non-null   float64\n",
      " 11  quality               1599 non-null   int64  \n",
      "dtypes: float64(11), int64(1)\n",
      "memory usage: 150.0 KB\n"
     ]
    }
   ],
   "source": [
    "df_winequality.info()"
   ]
  },
  {
   "cell_type": "markdown",
   "id": "09b5a3b3",
   "metadata": {},
   "source": [
    "# Limpeza e manipulação dos dados"
   ]
  },
  {
   "cell_type": "code",
   "execution_count": null,
   "id": "6dd0f4fe",
   "metadata": {},
   "outputs": [
    {
     "data": {
      "application/vnd.microsoft.datawrangler.viewer.v0+json": {
       "columns": [
        {
         "name": "index",
         "rawType": "int64",
         "type": "integer"
        },
        {
         "name": "fixed acidity",
         "rawType": "float64",
         "type": "float"
        },
        {
         "name": "volatile acidity",
         "rawType": "float64",
         "type": "float"
        },
        {
         "name": "citric acid",
         "rawType": "float64",
         "type": "float"
        },
        {
         "name": "residual sugar",
         "rawType": "float64",
         "type": "float"
        },
        {
         "name": "chlorides",
         "rawType": "float64",
         "type": "float"
        },
        {
         "name": "free sulfur dioxide",
         "rawType": "float64",
         "type": "float"
        },
        {
         "name": "total sulfur dioxide",
         "rawType": "float64",
         "type": "float"
        },
        {
         "name": "density",
         "rawType": "float64",
         "type": "float"
        },
        {
         "name": "pH",
         "rawType": "float64",
         "type": "float"
        },
        {
         "name": "sulphates",
         "rawType": "float64",
         "type": "float"
        },
        {
         "name": "alcohol",
         "rawType": "float64",
         "type": "float"
        },
        {
         "name": "quality",
         "rawType": "int64",
         "type": "integer"
        }
       ],
       "conversionMethod": "pd.DataFrame",
       "ref": "e608499a-edd1-424e-beb4-ae872df163a5",
       "rows": [
        [
         "0",
         "7.4",
         "0.7",
         "0.0",
         "1.9",
         "0.076",
         "11.0",
         "34.0",
         "0.9978",
         "3.51",
         "0.56",
         "9.4",
         "5"
        ],
        [
         "1",
         "7.8",
         "0.88",
         "0.0",
         "2.6",
         "0.098",
         "25.0",
         "67.0",
         "0.9968",
         "3.2",
         "0.68",
         "9.8",
         "5"
        ],
        [
         "2",
         "7.8",
         "0.76",
         "0.04",
         "2.3",
         "0.092",
         "15.0",
         "54.0",
         "0.997",
         "3.26",
         "0.65",
         "9.8",
         "5"
        ],
        [
         "3",
         "11.2",
         "0.28",
         "0.56",
         "1.9",
         "0.075",
         "17.0",
         "60.0",
         "0.998",
         "3.16",
         "0.58",
         "9.8",
         "6"
        ],
        [
         "4",
         "7.4",
         "0.7",
         "0.0",
         "1.9",
         "0.076",
         "11.0",
         "34.0",
         "0.9978",
         "3.51",
         "0.56",
         "9.4",
         "5"
        ]
       ],
       "shape": {
        "columns": 12,
        "rows": 5
       }
      },
      "text/html": [
       "<div>\n",
       "<style scoped>\n",
       "    .dataframe tbody tr th:only-of-type {\n",
       "        vertical-align: middle;\n",
       "    }\n",
       "\n",
       "    .dataframe tbody tr th {\n",
       "        vertical-align: top;\n",
       "    }\n",
       "\n",
       "    .dataframe thead th {\n",
       "        text-align: right;\n",
       "    }\n",
       "</style>\n",
       "<table border=\"1\" class=\"dataframe\">\n",
       "  <thead>\n",
       "    <tr style=\"text-align: right;\">\n",
       "      <th></th>\n",
       "      <th>fixed acidity</th>\n",
       "      <th>volatile acidity</th>\n",
       "      <th>citric acid</th>\n",
       "      <th>residual sugar</th>\n",
       "      <th>chlorides</th>\n",
       "      <th>free sulfur dioxide</th>\n",
       "      <th>total sulfur dioxide</th>\n",
       "      <th>density</th>\n",
       "      <th>pH</th>\n",
       "      <th>sulphates</th>\n",
       "      <th>alcohol</th>\n",
       "      <th>quality</th>\n",
       "    </tr>\n",
       "  </thead>\n",
       "  <tbody>\n",
       "    <tr>\n",
       "      <th>0</th>\n",
       "      <td>7.4</td>\n",
       "      <td>0.70</td>\n",
       "      <td>0.00</td>\n",
       "      <td>1.9</td>\n",
       "      <td>0.076</td>\n",
       "      <td>11.0</td>\n",
       "      <td>34.0</td>\n",
       "      <td>0.9978</td>\n",
       "      <td>3.51</td>\n",
       "      <td>0.56</td>\n",
       "      <td>9.4</td>\n",
       "      <td>5</td>\n",
       "    </tr>\n",
       "    <tr>\n",
       "      <th>1</th>\n",
       "      <td>7.8</td>\n",
       "      <td>0.88</td>\n",
       "      <td>0.00</td>\n",
       "      <td>2.6</td>\n",
       "      <td>0.098</td>\n",
       "      <td>25.0</td>\n",
       "      <td>67.0</td>\n",
       "      <td>0.9968</td>\n",
       "      <td>3.20</td>\n",
       "      <td>0.68</td>\n",
       "      <td>9.8</td>\n",
       "      <td>5</td>\n",
       "    </tr>\n",
       "    <tr>\n",
       "      <th>2</th>\n",
       "      <td>7.8</td>\n",
       "      <td>0.76</td>\n",
       "      <td>0.04</td>\n",
       "      <td>2.3</td>\n",
       "      <td>0.092</td>\n",
       "      <td>15.0</td>\n",
       "      <td>54.0</td>\n",
       "      <td>0.9970</td>\n",
       "      <td>3.26</td>\n",
       "      <td>0.65</td>\n",
       "      <td>9.8</td>\n",
       "      <td>5</td>\n",
       "    </tr>\n",
       "    <tr>\n",
       "      <th>3</th>\n",
       "      <td>11.2</td>\n",
       "      <td>0.28</td>\n",
       "      <td>0.56</td>\n",
       "      <td>1.9</td>\n",
       "      <td>0.075</td>\n",
       "      <td>17.0</td>\n",
       "      <td>60.0</td>\n",
       "      <td>0.9980</td>\n",
       "      <td>3.16</td>\n",
       "      <td>0.58</td>\n",
       "      <td>9.8</td>\n",
       "      <td>6</td>\n",
       "    </tr>\n",
       "    <tr>\n",
       "      <th>4</th>\n",
       "      <td>7.4</td>\n",
       "      <td>0.70</td>\n",
       "      <td>0.00</td>\n",
       "      <td>1.9</td>\n",
       "      <td>0.076</td>\n",
       "      <td>11.0</td>\n",
       "      <td>34.0</td>\n",
       "      <td>0.9978</td>\n",
       "      <td>3.51</td>\n",
       "      <td>0.56</td>\n",
       "      <td>9.4</td>\n",
       "      <td>5</td>\n",
       "    </tr>\n",
       "  </tbody>\n",
       "</table>\n",
       "</div>"
      ],
      "text/plain": [
       "   fixed acidity  volatile acidity  citric acid  residual sugar  chlorides  \\\n",
       "0            7.4              0.70         0.00             1.9      0.076   \n",
       "1            7.8              0.88         0.00             2.6      0.098   \n",
       "2            7.8              0.76         0.04             2.3      0.092   \n",
       "3           11.2              0.28         0.56             1.9      0.075   \n",
       "4            7.4              0.70         0.00             1.9      0.076   \n",
       "\n",
       "   free sulfur dioxide  total sulfur dioxide  density    pH  sulphates  \\\n",
       "0                 11.0                  34.0   0.9978  3.51       0.56   \n",
       "1                 25.0                  67.0   0.9968  3.20       0.68   \n",
       "2                 15.0                  54.0   0.9970  3.26       0.65   \n",
       "3                 17.0                  60.0   0.9980  3.16       0.58   \n",
       "4                 11.0                  34.0   0.9978  3.51       0.56   \n",
       "\n",
       "   alcohol  quality  \n",
       "0      9.4        5  \n",
       "1      9.8        5  \n",
       "2      9.8        5  \n",
       "3      9.8        6  \n",
       "4      9.4        5  "
      ]
     },
     "execution_count": 7,
     "metadata": {},
     "output_type": "execute_result"
    }
   ],
   "source": [
    "# Criando copia do dataframe\n",
    "df_wine_copia = df_winequality.copy()\n",
    "df_wine_copia.head()"
   ]
  },
  {
   "cell_type": "markdown",
   "id": "8ec4f96d",
   "metadata": {},
   "source": [
    "### Mantendo só as colunas necessárias para a proposta pedida"
   ]
  },
  {
   "cell_type": "code",
   "execution_count": 8,
   "id": "578b38f1",
   "metadata": {},
   "outputs": [
    {
     "data": {
      "application/vnd.microsoft.datawrangler.viewer.v0+json": {
       "columns": [
        {
         "name": "index",
         "rawType": "int64",
         "type": "integer"
        },
        {
         "name": "volatile acidity",
         "rawType": "float64",
         "type": "float"
        },
        {
         "name": "alcohol",
         "rawType": "float64",
         "type": "float"
        },
        {
         "name": "quality",
         "rawType": "int64",
         "type": "integer"
        }
       ],
       "conversionMethod": "pd.DataFrame",
       "ref": "fdb55703-8475-4cdb-8d3e-50644b9c9430",
       "rows": [
        [
         "0",
         "0.7",
         "9.4",
         "5"
        ],
        [
         "1",
         "0.88",
         "9.8",
         "5"
        ],
        [
         "2",
         "0.76",
         "9.8",
         "5"
        ],
        [
         "3",
         "0.28",
         "9.8",
         "6"
        ],
        [
         "4",
         "0.7",
         "9.4",
         "5"
        ],
        [
         "5",
         "0.66",
         "9.4",
         "5"
        ],
        [
         "6",
         "0.6",
         "9.4",
         "5"
        ],
        [
         "7",
         "0.65",
         "10.0",
         "7"
        ],
        [
         "8",
         "0.58",
         "9.5",
         "7"
        ],
        [
         "9",
         "0.5",
         "10.5",
         "5"
        ],
        [
         "10",
         "0.58",
         "9.2",
         "5"
        ],
        [
         "11",
         "0.5",
         "10.5",
         "5"
        ],
        [
         "12",
         "0.615",
         "9.9",
         "5"
        ],
        [
         "13",
         "0.61",
         "9.1",
         "5"
        ],
        [
         "14",
         "0.62",
         "9.2",
         "5"
        ],
        [
         "15",
         "0.62",
         "9.2",
         "5"
        ],
        [
         "16",
         "0.28",
         "10.5",
         "7"
        ],
        [
         "17",
         "0.56",
         "9.3",
         "5"
        ],
        [
         "18",
         "0.59",
         "9.0",
         "4"
        ],
        [
         "19",
         "0.32",
         "9.2",
         "6"
        ],
        [
         "20",
         "0.22",
         "9.4",
         "6"
        ],
        [
         "21",
         "0.39",
         "9.7",
         "5"
        ],
        [
         "22",
         "0.43",
         "9.5",
         "5"
        ],
        [
         "23",
         "0.49",
         "9.4",
         "5"
        ],
        [
         "24",
         "0.4",
         "9.7",
         "6"
        ],
        [
         "25",
         "0.39",
         "9.3",
         "5"
        ],
        [
         "26",
         "0.41",
         "9.5",
         "5"
        ],
        [
         "27",
         "0.43",
         "9.5",
         "5"
        ],
        [
         "28",
         "0.71",
         "9.4",
         "5"
        ],
        [
         "29",
         "0.645",
         "9.8",
         "6"
        ],
        [
         "30",
         "0.675",
         "10.1",
         "5"
        ],
        [
         "31",
         "0.685",
         "10.6",
         "6"
        ],
        [
         "32",
         "0.655",
         "9.8",
         "5"
        ],
        [
         "33",
         "0.605",
         "9.4",
         "6"
        ],
        [
         "34",
         "0.32",
         "9.2",
         "5"
        ],
        [
         "35",
         "0.645",
         "9.6",
         "6"
        ],
        [
         "36",
         "0.6",
         "10.8",
         "6"
        ],
        [
         "37",
         "0.38",
         "9.7",
         "7"
        ],
        [
         "38",
         "1.13",
         "9.8",
         "4"
        ],
        [
         "39",
         "0.45",
         "10.5",
         "5"
        ],
        [
         "40",
         "0.45",
         "10.5",
         "5"
        ],
        [
         "41",
         "0.61",
         "9.3",
         "4"
        ],
        [
         "42",
         "0.49",
         "10.5",
         "6"
        ],
        [
         "43",
         "0.66",
         "10.3",
         "5"
        ],
        [
         "44",
         "0.67",
         "9.5",
         "5"
        ],
        [
         "45",
         "0.52",
         "13.1",
         "4"
        ],
        [
         "46",
         "0.935",
         "9.2",
         "5"
        ],
        [
         "47",
         "0.29",
         "9.5",
         "5"
        ],
        [
         "48",
         "0.4",
         "9.2",
         "5"
        ],
        [
         "49",
         "0.31",
         "9.2",
         "5"
        ]
       ],
       "shape": {
        "columns": 3,
        "rows": 1599
       }
      },
      "text/html": [
       "<div>\n",
       "<style scoped>\n",
       "    .dataframe tbody tr th:only-of-type {\n",
       "        vertical-align: middle;\n",
       "    }\n",
       "\n",
       "    .dataframe tbody tr th {\n",
       "        vertical-align: top;\n",
       "    }\n",
       "\n",
       "    .dataframe thead th {\n",
       "        text-align: right;\n",
       "    }\n",
       "</style>\n",
       "<table border=\"1\" class=\"dataframe\">\n",
       "  <thead>\n",
       "    <tr style=\"text-align: right;\">\n",
       "      <th></th>\n",
       "      <th>volatile acidity</th>\n",
       "      <th>alcohol</th>\n",
       "      <th>quality</th>\n",
       "    </tr>\n",
       "  </thead>\n",
       "  <tbody>\n",
       "    <tr>\n",
       "      <th>0</th>\n",
       "      <td>0.700</td>\n",
       "      <td>9.4</td>\n",
       "      <td>5</td>\n",
       "    </tr>\n",
       "    <tr>\n",
       "      <th>1</th>\n",
       "      <td>0.880</td>\n",
       "      <td>9.8</td>\n",
       "      <td>5</td>\n",
       "    </tr>\n",
       "    <tr>\n",
       "      <th>2</th>\n",
       "      <td>0.760</td>\n",
       "      <td>9.8</td>\n",
       "      <td>5</td>\n",
       "    </tr>\n",
       "    <tr>\n",
       "      <th>3</th>\n",
       "      <td>0.280</td>\n",
       "      <td>9.8</td>\n",
       "      <td>6</td>\n",
       "    </tr>\n",
       "    <tr>\n",
       "      <th>4</th>\n",
       "      <td>0.700</td>\n",
       "      <td>9.4</td>\n",
       "      <td>5</td>\n",
       "    </tr>\n",
       "    <tr>\n",
       "      <th>...</th>\n",
       "      <td>...</td>\n",
       "      <td>...</td>\n",
       "      <td>...</td>\n",
       "    </tr>\n",
       "    <tr>\n",
       "      <th>1594</th>\n",
       "      <td>0.600</td>\n",
       "      <td>10.5</td>\n",
       "      <td>5</td>\n",
       "    </tr>\n",
       "    <tr>\n",
       "      <th>1595</th>\n",
       "      <td>0.550</td>\n",
       "      <td>11.2</td>\n",
       "      <td>6</td>\n",
       "    </tr>\n",
       "    <tr>\n",
       "      <th>1596</th>\n",
       "      <td>0.510</td>\n",
       "      <td>11.0</td>\n",
       "      <td>6</td>\n",
       "    </tr>\n",
       "    <tr>\n",
       "      <th>1597</th>\n",
       "      <td>0.645</td>\n",
       "      <td>10.2</td>\n",
       "      <td>5</td>\n",
       "    </tr>\n",
       "    <tr>\n",
       "      <th>1598</th>\n",
       "      <td>0.310</td>\n",
       "      <td>11.0</td>\n",
       "      <td>6</td>\n",
       "    </tr>\n",
       "  </tbody>\n",
       "</table>\n",
       "<p>1599 rows × 3 columns</p>\n",
       "</div>"
      ],
      "text/plain": [
       "      volatile acidity  alcohol  quality\n",
       "0                0.700      9.4        5\n",
       "1                0.880      9.8        5\n",
       "2                0.760      9.8        5\n",
       "3                0.280      9.8        6\n",
       "4                0.700      9.4        5\n",
       "...                ...      ...      ...\n",
       "1594             0.600     10.5        5\n",
       "1595             0.550     11.2        6\n",
       "1596             0.510     11.0        6\n",
       "1597             0.645     10.2        5\n",
       "1598             0.310     11.0        6\n",
       "\n",
       "[1599 rows x 3 columns]"
      ]
     },
     "execution_count": 8,
     "metadata": {},
     "output_type": "execute_result"
    }
   ],
   "source": [
    "df_wine_copia = df_wine_copia.drop(['fixed acidity', 'citric acid', 'residual sugar', 'chlorides', 'free sulfur dioxide', 'total sulfur dioxide', 'pH', 'density', 'sulphates'], axis=1)\n",
    "df_wine_copia"
   ]
  },
  {
   "cell_type": "code",
   "execution_count": null,
   "id": "24b3b247",
   "metadata": {},
   "outputs": [],
   "source": [
    "# Traduzindo e Renomeando Colunas\n",
    "\n",
    "df_wine_copia = df_wine_copia.rename(columns={\n",
    "    'volatile acidity' : 'acidez_volatil',\n",
    "    'alcohol' : 'teor_alcoolico',\n",
    "    'quality' : 'qualidade_vinho'\n",
    "})"
   ]
  },
  {
   "cell_type": "code",
   "execution_count": 10,
   "id": "ee1a9a8d",
   "metadata": {},
   "outputs": [
    {
     "name": "stdout",
     "output_type": "stream",
     "text": [
      "<class 'pandas.core.frame.DataFrame'>\n",
      "RangeIndex: 1599 entries, 0 to 1598\n",
      "Data columns (total 3 columns):\n",
      " #   Column           Non-Null Count  Dtype  \n",
      "---  ------           --------------  -----  \n",
      " 0   acidez_volatil   1599 non-null   float64\n",
      " 1   teor_alcoolico   1599 non-null   float64\n",
      " 2   qualidade_vinho  1599 non-null   int64  \n",
      "dtypes: float64(2), int64(1)\n",
      "memory usage: 37.6 KB\n"
     ]
    }
   ],
   "source": [
    "df_wine_copia.info()"
   ]
  },
  {
   "cell_type": "code",
   "execution_count": null,
   "id": "c5bb5241",
   "metadata": {},
   "outputs": [
    {
     "data": {
      "text/plain": [
       "acidez_volatil     0\n",
       "teor_alcoolico     0\n",
       "qualidade_vinho    0\n",
       "dtype: int64"
      ]
     },
     "execution_count": 11,
     "metadata": {},
     "output_type": "execute_result"
    }
   ],
   "source": [
    "#Conferindo se existe colunas nulas\n",
    "df_wine_copia.isnull().sum()"
   ]
  },
  {
   "cell_type": "code",
   "execution_count": null,
   "id": "0d36e3cd",
   "metadata": {},
   "outputs": [
    {
     "data": {
      "text/plain": [
       "acidez_volatil     143\n",
       "teor_alcoolico      65\n",
       "qualidade_vinho      6\n",
       "dtype: int64"
      ]
     },
     "execution_count": 12,
     "metadata": {},
     "output_type": "execute_result"
    }
   ],
   "source": [
    "# Quantidades unicas de cada coluna\n",
    "df_wine_copia.nunique()"
   ]
  },
  {
   "cell_type": "code",
   "execution_count": null,
   "id": "ebf5ed8b",
   "metadata": {},
   "outputs": [
    {
     "data": {
      "application/vnd.microsoft.datawrangler.viewer.v0+json": {
       "columns": [
        {
         "name": "index",
         "rawType": "object",
         "type": "string"
        },
        {
         "name": "acidez_volatil",
         "rawType": "float64",
         "type": "float"
        },
        {
         "name": "teor_alcoolico",
         "rawType": "float64",
         "type": "float"
        },
        {
         "name": "qualidade_vinho",
         "rawType": "float64",
         "type": "float"
        }
       ],
       "conversionMethod": "pd.DataFrame",
       "ref": "0712c79f-f06f-4b33-a279-a22fd81645f9",
       "rows": [
        [
         "count",
         "1599.0",
         "1599.0",
         "1599.0"
        ],
        [
         "mean",
         "0.5278205128205128",
         "10.422983114446529",
         "5.6360225140712945"
        ],
        [
         "std",
         "0.17905970415353537",
         "1.0656675818473946",
         "0.807569439734705"
        ],
        [
         "min",
         "0.12",
         "8.4",
         "3.0"
        ],
        [
         "25%",
         "0.39",
         "9.5",
         "5.0"
        ],
        [
         "50%",
         "0.52",
         "10.2",
         "6.0"
        ],
        [
         "75%",
         "0.64",
         "11.1",
         "6.0"
        ],
        [
         "max",
         "1.58",
         "14.9",
         "8.0"
        ]
       ],
       "shape": {
        "columns": 3,
        "rows": 8
       }
      },
      "text/html": [
       "<div>\n",
       "<style scoped>\n",
       "    .dataframe tbody tr th:only-of-type {\n",
       "        vertical-align: middle;\n",
       "    }\n",
       "\n",
       "    .dataframe tbody tr th {\n",
       "        vertical-align: top;\n",
       "    }\n",
       "\n",
       "    .dataframe thead th {\n",
       "        text-align: right;\n",
       "    }\n",
       "</style>\n",
       "<table border=\"1\" class=\"dataframe\">\n",
       "  <thead>\n",
       "    <tr style=\"text-align: right;\">\n",
       "      <th></th>\n",
       "      <th>acidez_volatil</th>\n",
       "      <th>teor_alcoolico</th>\n",
       "      <th>qualidade_vinho</th>\n",
       "    </tr>\n",
       "  </thead>\n",
       "  <tbody>\n",
       "    <tr>\n",
       "      <th>count</th>\n",
       "      <td>1599.000000</td>\n",
       "      <td>1599.000000</td>\n",
       "      <td>1599.000000</td>\n",
       "    </tr>\n",
       "    <tr>\n",
       "      <th>mean</th>\n",
       "      <td>0.527821</td>\n",
       "      <td>10.422983</td>\n",
       "      <td>5.636023</td>\n",
       "    </tr>\n",
       "    <tr>\n",
       "      <th>std</th>\n",
       "      <td>0.179060</td>\n",
       "      <td>1.065668</td>\n",
       "      <td>0.807569</td>\n",
       "    </tr>\n",
       "    <tr>\n",
       "      <th>min</th>\n",
       "      <td>0.120000</td>\n",
       "      <td>8.400000</td>\n",
       "      <td>3.000000</td>\n",
       "    </tr>\n",
       "    <tr>\n",
       "      <th>25%</th>\n",
       "      <td>0.390000</td>\n",
       "      <td>9.500000</td>\n",
       "      <td>5.000000</td>\n",
       "    </tr>\n",
       "    <tr>\n",
       "      <th>50%</th>\n",
       "      <td>0.520000</td>\n",
       "      <td>10.200000</td>\n",
       "      <td>6.000000</td>\n",
       "    </tr>\n",
       "    <tr>\n",
       "      <th>75%</th>\n",
       "      <td>0.640000</td>\n",
       "      <td>11.100000</td>\n",
       "      <td>6.000000</td>\n",
       "    </tr>\n",
       "    <tr>\n",
       "      <th>max</th>\n",
       "      <td>1.580000</td>\n",
       "      <td>14.900000</td>\n",
       "      <td>8.000000</td>\n",
       "    </tr>\n",
       "  </tbody>\n",
       "</table>\n",
       "</div>"
      ],
      "text/plain": [
       "       acidez_volatil  teor_alcoolico  qualidade_vinho\n",
       "count     1599.000000     1599.000000      1599.000000\n",
       "mean         0.527821       10.422983         5.636023\n",
       "std          0.179060        1.065668         0.807569\n",
       "min          0.120000        8.400000         3.000000\n",
       "25%          0.390000        9.500000         5.000000\n",
       "50%          0.520000       10.200000         6.000000\n",
       "75%          0.640000       11.100000         6.000000\n",
       "max          1.580000       14.900000         8.000000"
      ]
     },
     "execution_count": 13,
     "metadata": {},
     "output_type": "execute_result"
    }
   ],
   "source": [
    "# Análise estatística básica dos dados\n",
    "df_wine_copia.describe()"
   ]
  },
  {
   "cell_type": "markdown",
   "id": "c9bf4c61",
   "metadata": {},
   "source": [
    "# Distribuições e Plotagem"
   ]
  },
  {
   "cell_type": "markdown",
   "id": "e53fc94b",
   "metadata": {},
   "source": [
    "## **Distribuição da acidez volátil por qualidade do vinho?**"
   ]
  },
  {
   "cell_type": "code",
   "execution_count": null,
   "id": "b60d35c1",
   "metadata": {},
   "outputs": [],
   "source": [
    "#Criando média de acidez volátil por qualidade\n",
    "media_acidez_qualidade = pd.DataFrame(df_wine_copia.groupby('qualidade_vinho')['acidez_volatil'].mean())"
   ]
  },
  {
   "cell_type": "code",
   "execution_count": 17,
   "id": "0810d7eb",
   "metadata": {},
   "outputs": [
    {
     "data": {
      "application/vnd.microsoft.datawrangler.viewer.v0+json": {
       "columns": [
        {
         "name": "qualidade_vinho",
         "rawType": "int64",
         "type": "integer"
        },
        {
         "name": "acidez_volatil",
         "rawType": "float64",
         "type": "float"
        }
       ],
       "conversionMethod": "pd.DataFrame",
       "ref": "58a6e9d4-ec5e-497e-a7ca-f41d89ff43cd",
       "rows": [
        [
         "3",
         "0.8845000000000001"
        ],
        [
         "4",
         "0.6939622641509434"
        ],
        [
         "5",
         "0.5770411160058737"
        ],
        [
         "6",
         "0.49748432601880876"
        ],
        [
         "7",
         "0.40391959798994975"
        ],
        [
         "8",
         "0.42333333333333334"
        ]
       ],
       "shape": {
        "columns": 1,
        "rows": 6
       }
      },
      "text/html": [
       "<div>\n",
       "<style scoped>\n",
       "    .dataframe tbody tr th:only-of-type {\n",
       "        vertical-align: middle;\n",
       "    }\n",
       "\n",
       "    .dataframe tbody tr th {\n",
       "        vertical-align: top;\n",
       "    }\n",
       "\n",
       "    .dataframe thead th {\n",
       "        text-align: right;\n",
       "    }\n",
       "</style>\n",
       "<table border=\"1\" class=\"dataframe\">\n",
       "  <thead>\n",
       "    <tr style=\"text-align: right;\">\n",
       "      <th></th>\n",
       "      <th>acidez_volatil</th>\n",
       "    </tr>\n",
       "    <tr>\n",
       "      <th>qualidade_vinho</th>\n",
       "      <th></th>\n",
       "    </tr>\n",
       "  </thead>\n",
       "  <tbody>\n",
       "    <tr>\n",
       "      <th>3</th>\n",
       "      <td>0.884500</td>\n",
       "    </tr>\n",
       "    <tr>\n",
       "      <th>4</th>\n",
       "      <td>0.693962</td>\n",
       "    </tr>\n",
       "    <tr>\n",
       "      <th>5</th>\n",
       "      <td>0.577041</td>\n",
       "    </tr>\n",
       "    <tr>\n",
       "      <th>6</th>\n",
       "      <td>0.497484</td>\n",
       "    </tr>\n",
       "    <tr>\n",
       "      <th>7</th>\n",
       "      <td>0.403920</td>\n",
       "    </tr>\n",
       "    <tr>\n",
       "      <th>8</th>\n",
       "      <td>0.423333</td>\n",
       "    </tr>\n",
       "  </tbody>\n",
       "</table>\n",
       "</div>"
      ],
      "text/plain": [
       "                 acidez_volatil\n",
       "qualidade_vinho                \n",
       "3                      0.884500\n",
       "4                      0.693962\n",
       "5                      0.577041\n",
       "6                      0.497484\n",
       "7                      0.403920\n",
       "8                      0.423333"
      ]
     },
     "execution_count": 17,
     "metadata": {},
     "output_type": "execute_result"
    }
   ],
   "source": [
    "media_acidez_qualidade"
   ]
  },
  {
   "cell_type": "code",
   "execution_count": 33,
   "id": "0ac49416",
   "metadata": {},
   "outputs": [
    {
     "data": {
      "image/png": "[encoded data removed]",
      "text/plain": [
       "<Figure size 1000x600 with 1 Axes>"
      ]
     },
     "metadata": {},
     "output_type": "display_data"
    }
   ],
   "source": [
    "plt.figure(figsize=(10,6))\n",
    "\n",
    "ax = sns.barplot(data=media_acidez_qualidade, x=media_acidez_qualidade.index,y=media_acidez_qualidade['acidez_volatil'], palette='tab10')\n",
    "plt.title('Acidez Volátil por qualidade do Vinho', fontsize=18, fontweight='bold', loc='left')\n",
    "plt.ylabel('Acidez Volátil (g/L)')\n",
    "plt.xlabel('Qualidade de Vinho')\n",
    "plt.xticks(rotation=360)\n",
    "\n",
    "y_limite = df_wine_copia.acidez_volatil.max()\n",
    "plt.ylim(0, y_limite * 1.1)\n",
    "\n",
    "for container in ax.containers:\n",
    "    ax.bar_label(container, label_type='edge', padding=3)\n",
    "\n",
    "plt.show()"
   ]
  },
  {
   "cell_type": "markdown",
   "id": "51d998c2",
   "metadata": {},
   "source": [
    "**Podemos concluir que quanto maior a qualidade do vinho menor a acidez volátil, com uma média de 0.40 de acidez.**\n",
    "- Corforme pesquisa feita no site winefun a maioria dos vinhos tem níveis de ácido acético (que é criado pelas bactérias Acetobacter) estão entre 0,3 a 0,5 gramas por litro. Geralmente as leveduras contribuem com 0,1 g/L e as bactérias com 0,2 a 0,4 g/L, nesses níveis a acidez volátil não é perceptível, o limiar de nosso aroma fica entre 0,6 a 0,9 g/L, assim a acidez volátil passa a ser perceptível. temos um problema no caso de preferências tem pessas que gostam com a acidez volátil acima da limiar e outras não, então como as médias de qualidade de vinhos plotadas foram como os manuais antigos de vinificação colocam o patamar entre 0,3 e 0,5 g/L então nosso propósito será buscar manter a média dessa acidez volátil.\n",
    "\n",
    "Fonte: Winefun  \n",
    "https://winefun.com.br/acidez-volatil-conheca-um-dos-defeitos-mais-controvertidos-do-mundo-dos-vinhos/"
   ]
  },
  {
   "cell_type": "markdown",
   "id": "52c8c979",
   "metadata": {},
   "source": [
    "## **Distribuição do teor alcóolico por qualidade do vinho?**"
   ]
  },
  {
   "cell_type": "code",
   "execution_count": 19,
   "id": "cd323c93",
   "metadata": {},
   "outputs": [
    {
     "data": {
      "application/vnd.microsoft.datawrangler.viewer.v0+json": {
       "columns": [
        {
         "name": "qualidade_vinho",
         "rawType": "int64",
         "type": "integer"
        },
        {
         "name": "teor_alcoolico",
         "rawType": "float64",
         "type": "float"
        }
       ],
       "conversionMethod": "pd.DataFrame",
       "ref": "4e53e692-dd5e-481b-9b85-397c68faa3b7",
       "rows": [
        [
         "3",
         "9.955"
        ],
        [
         "4",
         "10.26509433962264"
        ],
        [
         "5",
         "9.899706314243758"
        ],
        [
         "6",
         "10.629519331243468"
        ],
        [
         "7",
         "11.465912897822445"
        ],
        [
         "8",
         "12.094444444444443"
        ]
       ],
       "shape": {
        "columns": 1,
        "rows": 6
       }
      },
      "text/html": [
       "<div>\n",
       "<style scoped>\n",
       "    .dataframe tbody tr th:only-of-type {\n",
       "        vertical-align: middle;\n",
       "    }\n",
       "\n",
       "    .dataframe tbody tr th {\n",
       "        vertical-align: top;\n",
       "    }\n",
       "\n",
       "    .dataframe thead th {\n",
       "        text-align: right;\n",
       "    }\n",
       "</style>\n",
       "<table border=\"1\" class=\"dataframe\">\n",
       "  <thead>\n",
       "    <tr style=\"text-align: right;\">\n",
       "      <th></th>\n",
       "      <th>teor_alcoolico</th>\n",
       "    </tr>\n",
       "    <tr>\n",
       "      <th>qualidade_vinho</th>\n",
       "      <th></th>\n",
       "    </tr>\n",
       "  </thead>\n",
       "  <tbody>\n",
       "    <tr>\n",
       "      <th>3</th>\n",
       "      <td>9.955000</td>\n",
       "    </tr>\n",
       "    <tr>\n",
       "      <th>4</th>\n",
       "      <td>10.265094</td>\n",
       "    </tr>\n",
       "    <tr>\n",
       "      <th>5</th>\n",
       "      <td>9.899706</td>\n",
       "    </tr>\n",
       "    <tr>\n",
       "      <th>6</th>\n",
       "      <td>10.629519</td>\n",
       "    </tr>\n",
       "    <tr>\n",
       "      <th>7</th>\n",
       "      <td>11.465913</td>\n",
       "    </tr>\n",
       "    <tr>\n",
       "      <th>8</th>\n",
       "      <td>12.094444</td>\n",
       "    </tr>\n",
       "  </tbody>\n",
       "</table>\n",
       "</div>"
      ],
      "text/plain": [
       "                 teor_alcoolico\n",
       "qualidade_vinho                \n",
       "3                      9.955000\n",
       "4                     10.265094\n",
       "5                      9.899706\n",
       "6                     10.629519\n",
       "7                     11.465913\n",
       "8                     12.094444"
      ]
     },
     "execution_count": 19,
     "metadata": {},
     "output_type": "execute_result"
    }
   ],
   "source": [
    "# Quantidade de observações por Teor alcóolico\n",
    "media_teoralcoolico_qualidade = pd.DataFrame(df_wine_copia.groupby('qualidade_vinho')['teor_alcoolico'].mean())\n",
    "media_teoralcoolico_qualidade"
   ]
  },
  {
   "cell_type": "code",
   "execution_count": 34,
   "id": "c2998c9c",
   "metadata": {},
   "outputs": [
    {
     "data": {
      "image/png": "[encoded data removed]",
      "text/plain": [
       "<Figure size 1000x600 with 1 Axes>"
      ]
     },
     "metadata": {},
     "output_type": "display_data"
    }
   ],
   "source": [
    "#Teor alcóolico medido em Gay Lussac (°GL) e percentagem\n",
    "\n",
    "plt.figure(figsize=(10,6))\n",
    "\n",
    "ax = sns.barplot(data=media_teoralcoolico_qualidade, x=media_teoralcoolico_qualidade.index,y=media_teoralcoolico_qualidade['teor_alcoolico'], palette='tab10')\n",
    "plt.title('Teor Alcóolico por Qualidade do Vinho', fontsize=18, fontweight='bold', loc='left')\n",
    "plt.ylabel('Teor Alcóolico (°GL)')\n",
    "plt.xlabel('Qualidade de Vinho')\n",
    "plt.xticks(rotation=360)\n",
    "\n",
    "y_limite = df_wine_copia.teor_alcoolico.max()\n",
    "plt.ylim(0, y_limite * 1.1)\n",
    "\n",
    "for container in ax.containers:\n",
    "    ax.bar_label(container, label_type='edge', padding=3)\n",
    "\n",
    "plt.show()"
   ]
  },
  {
   "cell_type": "markdown",
   "id": "56147f24",
   "metadata": {},
   "source": [
    "**Observando a distribuição de Teor Alcóolico por qualidade do vinho fica bem claro que quão maior a qualidade do vinho mais é o seu teor alcóolico**\n",
    "- com uma média de 12,10 de teor alcóolico com sua qualidade em nível 8, conforme a winepedia diz em seu artigo o teor alcóolico não pode indicar a qualidade do vinho e que o seu ideal é ficar abaixo de 13% para o vinho se manter equilibrio no paladar e tender a ter corpo mais leve e mais refrescante na boca e a legislação brasileira considera que para ser considreado vinho tem que ficar acima de 7%.\n",
    "assim podemos acrescentar nessa nossa nova produção de vinho para além de diminuir sua acidez volátil e podemos aumentar o nível de teor alcóolico entre 10.5 à 12.5 trazendo assim uma maior armonia ao nosso vinho e trazendo maior possibilidade de ele ser bem aceito pelos nossos clientes.\n",
    "\n",
    "link:  \n",
    "https://www.wine.com.br/winepedia/alcool-pra-que/"
   ]
  },
  {
   "cell_type": "markdown",
   "id": "7dc26188",
   "metadata": {},
   "source": [
    "# **Classificação Geral de Correlação de Pearson:**  \n",
    "**Valor da Correlação(r)**----**Intensidade**-----------**Direção**  \n",
    "-0,70 a -1,00--------------------Forte----------------Negativa    \n",
    "-0,39 a -0,69---------------Moderada a fraca----------Negativa    \n",
    "-0,20 a -0,38--------------------Fraca----------------Negativa    \n",
    "-0,19 a +0,19---------------Praticamente nula----------Neutra    "
   ]
  },
  {
   "cell_type": "markdown",
   "id": "0f48faa0",
   "metadata": {},
   "source": [
    "## **Relação entre acidez volátil e teor alcóolico?**"
   ]
  },
  {
   "cell_type": "code",
   "execution_count": 21,
   "id": "6a58b232",
   "metadata": {},
   "outputs": [
    {
     "data": {
      "image/png": "[encoded data removed]",
      "text/plain": [
       "<Figure size 1000x600 with 1 Axes>"
      ]
     },
     "metadata": {},
     "output_type": "display_data"
    }
   ],
   "source": [
    "# Criar o scatter plot\n",
    "plt.figure(figsize=(10, 6))\n",
    "sns.scatterplot(data=df_wine_copia, x='acidez_volatil', y='teor_alcoolico', color='blue', alpha=0.7)\n",
    "sns.regplot(data=df_wine_copia, x='acidez_volatil', y='teor_alcoolico', \n",
    "            scatter=False, line_kws={'color': 'red', 'linewidth': 2})  # Linha de regressão\n",
    "plt.title('Relação entre Acidez Volátil e Teor Alcoólico', fontsize=14)\n",
    "plt.xlabel('Acidez Volátil', fontsize=12)\n",
    "plt.ylabel('Teor Alcoólico (%)', fontsize=12)\n",
    "plt.grid(True, linestyle='--', alpha=0.3)\n",
    "plt.show()"
   ]
  },
  {
   "cell_type": "code",
   "execution_count": null,
   "id": "9005e97a",
   "metadata": {},
   "outputs": [
    {
     "name": "stdout",
     "output_type": "stream",
     "text": [
      "Coeficiente de correlação de Pearson: -0.20\n"
     ]
    }
   ],
   "source": [
    "# Obtendo a correlação de Pearson\n",
    "correlacao = df_wine_copia['acidez_volatil'].corr(df_wine_copia['teor_alcoolico'])\n",
    "print(f\"Coeficiente de correlação de Pearson: {correlacao:.2f}\")"
   ]
  },
  {
   "cell_type": "markdown",
   "id": "78724431",
   "metadata": {},
   "source": [
    "**Relação entre Teor Alcoólico e Acidez Volátil**  \n",
    "Correlação de Pearson: -0,20\n",
    "\n",
    "**Interpretação:**  \n",
    "- **Fraca correlação negativa:** Quando a acidez volátil aumenta, o teor alcoólico tende a diminuir levemente.\n",
    "\n",
    "- **Impacto limitado:** Essa relação é tão suave que outros fatores provavelmente influenciam mais o teor alcoólico.\n",
    "\n",
    "**Conclusão:**  \n",
    "A acidez volátil não é um fator relevante para explicar variações no teor alcoólico. Em análises futuras, podemos explorar outras variáveis (como tipo de uva ou tempo de fermentação) para entender melhor o comportamento do álcool no produto."
   ]
  },
  {
   "cell_type": "markdown",
   "id": "f14781aa",
   "metadata": {},
   "source": [
    "## **Relação entre acidez volátil e qualidade do vinho?**"
   ]
  },
  {
   "cell_type": "code",
   "execution_count": 26,
   "id": "7c77c4dc",
   "metadata": {},
   "outputs": [
    {
     "data": {
      "image/png": "[encoded data removed]",
      "text/plain": [
       "<Figure size 1000x600 with 1 Axes>"
      ]
     },
     "metadata": {},
     "output_type": "display_data"
    }
   ],
   "source": [
    "# Criar o scatter plot\n",
    "plt.figure(figsize=(10, 6))\n",
    "sns.scatterplot(data=df_wine_copia, x='acidez_volatil', y='qualidade_vinho', color='blue', alpha=0.7)\n",
    "sns.regplot(data=df_wine_copia, x='acidez_volatil', y='qualidade_vinho', \n",
    "            scatter=False, line_kws={'color': 'red', 'linewidth': 2})  # Linha de regressão\n",
    "plt.title('Relação entre Acidez Volátil e Qualidade do Vinho', fontsize=14)\n",
    "plt.xlabel('Acidez Volátil', fontsize=12)\n",
    "plt.ylabel('Qualidade do Vinho', fontsize=12)\n",
    "plt.grid(True, linestyle='--', alpha=0.3)\n",
    "plt.show()"
   ]
  },
  {
   "cell_type": "code",
   "execution_count": null,
   "id": "e8e5e3a4",
   "metadata": {},
   "outputs": [
    {
     "name": "stdout",
     "output_type": "stream",
     "text": [
      "Coeficiente de correlação de Pearson: -0.39\n"
     ]
    }
   ],
   "source": [
    "# Obtendo a correlação de Pearson\n",
    "correlacao = df_wine_copia['acidez_volatil'].corr(df_wine_copia['qualidade_vinho'])\n",
    "print(f\"Coeficiente de correlação de Pearson: {correlacao:.2f}\")"
   ]
  },
  {
   "cell_type": "markdown",
   "id": "afdb4d7b",
   "metadata": {},
   "source": [
    "Ao analisar a relação entre **Acidez Volátil e Qualidade do Vinho temos:**\n",
    "\n",
    "**Relação inversa:** Valores mais altos de acidez volátil tendem a estar associados a vinhos com notas de qualidade mais baixas.  \n",
    "**Intensidade moderada:** A relação é perceptível, mas não determinante — outros fatores (como taninos, açúcar residual ou aromas) também impactam a qualidade.\n",
    "\n",
    "Nossa análise identificou que vinhos com maior acidez volátil tendem a receber avaliações de **qualidade inferiores** (r = -0,39), sugerindo que esse atributo pode ser um indicador de possíveis defeitos. Entretanto, como a correlação é moderada, **recomendamos análises complementares** — como testes sensoriais ou estudo de outras variáveis químicas (ex.: SO₂ livre, pH) — para entender melhor seu impacto real na percepção da qualidade."
   ]
  },
  {
   "cell_type": "markdown",
   "id": "cb1bf95e",
   "metadata": {},
   "source": [
    "**Relação entre Acidez Volátil e Qualidade do Vinho**  \n",
    "Correlação de Pearson: -0,39\n",
    "\n",
    "**Interpretação:**  \n",
    "- **Fraca correlação negativa:** Quando a acidez volátil aumenta, o teor alcoólico tende a diminuir levemente.\n",
    "\n",
    "- **Impacto limitado:** Essa relação é tão suave que outros fatores provavelmente influenciam mais o teor alcoólico.\n",
    "\n",
    "**Conclusão:**  \n",
    "A acidez volátil não é um fator relevante para explicar variações no teor alcoólico. Em análises futuras, podemos explorar outras variáveis (como tipo de uva ou tempo de fermentação) para entender melhor o comportamento do álcool no produto."
   ]
  },
  {
   "cell_type": "markdown",
   "id": "49d75571",
   "metadata": {},
   "source": [
    "## **Qual a acidez volátil média dos vinhos de qualidade elevada?**  \n",
    "**- A acidez volátil média dos vinhos de maior qualidades é de 0.40 à 0.42 g/L.**"
   ]
  },
  {
   "cell_type": "markdown",
   "id": "a1d0c6f8",
   "metadata": {},
   "source": [
    "## **Qual a relação entre teor alcóolico e qualidade do vinho?**"
   ]
  },
  {
   "cell_type": "code",
   "execution_count": 28,
   "id": "0d2beebe",
   "metadata": {},
   "outputs": [
    {
     "data": {
      "image/png": "[encoded data removed]",
      "text/plain": [
       "<Figure size 1000x600 with 1 Axes>"
      ]
     },
     "metadata": {},
     "output_type": "display_data"
    }
   ],
   "source": [
    "# Criar o scatter plot\n",
    "plt.figure(figsize=(10, 6))\n",
    "sns.scatterplot(data=df_wine_copia, x='teor_alcoolico', y='qualidade_vinho', color='blue', alpha=0.7)\n",
    "sns.regplot(data=df_wine_copia, x='teor_alcoolico', y='qualidade_vinho', \n",
    "            scatter=False, line_kws={'color': 'red', 'linewidth': 2})  # Linha de regressão\n",
    "plt.title('Relação entre Teor Alcóolico e Qualidade do Vinho', fontsize=14)\n",
    "plt.xlabel('Teor Alcóolico', fontsize=12)\n",
    "plt.ylabel('Qualidade do Vinho', fontsize=12)\n",
    "plt.grid(True, linestyle='--', alpha=0.3)\n",
    "plt.show()"
   ]
  },
  {
   "cell_type": "code",
   "execution_count": null,
   "id": "26d3ef2c",
   "metadata": {},
   "outputs": [
    {
     "name": "stdout",
     "output_type": "stream",
     "text": [
      "Coeficiente de correlação de Pearson: 0.48\n"
     ]
    }
   ],
   "source": [
    "# Obtendo a correlação de Pearson\n",
    "correlacao = df_wine_copia['teor_alcoolico'].corr(df_wine_copia['qualidade_vinho'])\n",
    "print(f\"Coeficiente de correlação de Pearson: {correlacao:.2f}\")"
   ]
  },
  {
   "cell_type": "markdown",
   "id": "758fec27",
   "metadata": {},
   "source": [
    "**Relação entre Teor Alcoólico e Qualidade do Vinho**  \n",
    "Correlação de Pearson: 0,48 (moderada correlação positiva)\n",
    "\n",
    "**Interpretação:**  \n",
    "**Relação positiva:** Vinhos com **maior teor alcoólico** tendem a receber **notas de qualidade mais altas**.\n",
    "\n",
    "**Força moderada:** A correlação (0,48) sugere uma tendência relevante, mas não determinante — outros fatores (como acidez, taninos, equilíbrio sensorial) também influenciam a qualidade.\n",
    "\n",
    "A correlação não implica que **mais álcool** = **melhor qualidade**, apenas que há uma tendência nos dados analisados.\n",
    "\n",
    "- Embora exista uma relação moderada (r = 0,48) entre teor alcoólico e qualidade, isso não significa que aumentar o álcool melhora o vinho automaticamente. \n",
    "\n",
    "- Recomenda-se analisar outras variáveis (como tipo de uva, região climática ou técnicas de vinificação) para entender completamente os drivers de qualidade."
   ]
  },
  {
   "cell_type": "markdown",
   "id": "d14d6e9a",
   "metadata": {},
   "source": [
    "## **Há alguma relação entre acidez volátil e teor alcóolico?**  \n",
    "**- Temos uma relação de Pearson negativa fraca de -0.20. Explicado acima**"
   ]
  },
  {
   "cell_type": "markdown",
   "id": "dac652ff",
   "metadata": {},
   "source": [
    "## **Há alguma relação entre acidez volátil e qualidade do vinho?**  \n",
    "**- Temos uma relação de Pearson negativa fraca/moderada de -0.39. Explicado acima**"
   ]
  }
 ],
 "metadata": {
  "kernelspec": {
   "display_name": "base",
   "language": "python",
   "name": "python3"
  },
  "language_info": {
   "codemirror_mode": {
    "name": "ipython",
    "version": 3
   },
   "file_extension": ".py",
   "mimetype": "text/x-python",
   "name": "python",
   "nbconvert_exporter": "python",
   "pygments_lexer": "ipython3",
   "version": "3.12.9"
  }
 },
 "nbformat": 4,
 "nbformat_minor": 5
}
